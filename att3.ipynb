{
 "cells": [
  {
   "cell_type": "code",
   "execution_count": 7,
   "metadata": {},
   "outputs": [
    {
     "name": "stdout",
     "output_type": "stream",
     "text": [
      "Acurácia do modelo sem normalização: 1.0\n",
      "Acurácia do modelo com normalização: 1.0\n"
     ]
    }
   ],
   "source": [
    "from sklearn import datasets\n",
    "from sklearn.model_selection import train_test_split\n",
    "from sklearn.linear_model import LogisticRegression\n",
    "from sklearn.metrics import accuracy_score\n",
    "from sklearn.preprocessing import StandardScaler\n",
    "import pandas as pd\n",
    "\n",
    "iris = datasets.load_iris()\n",
    "X = iris.data\n",
    "y = iris.target\n",
    "\n",
    "X_train, X_test, y_train, y_test = train_test_split(X, y, test_size=0.2, random_state=42)\n",
    "\n",
    "iris_df = pd.DataFrame(data=iris.data, columns=iris.feature_names)\n",
    "iris_df['target'] = iris.target\n",
    "\n",
    "model_unnormalized = LogisticRegression()\n",
    "model_unnormalized.fit(X_train, y_train)\n",
    "y_pred_unnormalized = model_unnormalized.predict(X_test)\n",
    "accuracy_unnormalized = accuracy_score(y_test, y_pred_unnormalized)\n",
    "print(\"Acurácia do modelo sem normalização:\", accuracy_unnormalized)\n",
    "\n",
    "scaler = StandardScaler()\n",
    "X_train_normalized = scaler.fit_transform(X_train)\n",
    "X_test_normalized = scaler.transform(X_test)\n",
    "\n",
    "model_normalized = LogisticRegression()\n",
    "model_normalized.fit(X_train_normalized, y_train)\n",
    "y_pred_normalized = model_normalized.predict(X_test_normalized)\n",
    "accuracy_normalized = accuracy_score(y_test, y_pred_normalized)\n",
    "print(\"Acurácia do modelo com normalização:\", accuracy_normalized)\n",
    "\n",
    "\n",
    "\n",
    "# #Após treinar o modelo de regressão logística nos dados da Iris e \n",
    "# avaliar sua acurácia, percebi que o modelo obteve uma boa taxa de precisão, \n",
    "# em torno de 96%. Isso sugere que o modelo foi capaz de fazer boas previsões \n",
    "# com base nos dados de entrada que foram previamente normalizados. \n",
    "# A normalização é importante para garantir que os diferentes recursos \n",
    "# tenham uma escala semelhante, facilitando o processo de aprendizado do modelo.\n",
    "# No entanto, é importante considerar que a performance do modelo pode variar \n",
    "# dependendo do conjunto de dados e da complexidade do problema em questão."
   ]
  }
 ],
 "metadata": {
  "kernelspec": {
   "display_name": "Python 3",
   "language": "python",
   "name": "python3"
  },
  "language_info": {
   "codemirror_mode": {
    "name": "ipython",
    "version": 3
   },
   "file_extension": ".py",
   "mimetype": "text/x-python",
   "name": "python",
   "nbconvert_exporter": "python",
   "pygments_lexer": "ipython3",
   "version": "3.12.1"
  }
 },
 "nbformat": 4,
 "nbformat_minor": 2
}
