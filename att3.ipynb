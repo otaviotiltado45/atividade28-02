{
 "cells": [
  {
   "cell_type": "code",
   "execution_count": 5,
   "metadata": {},
   "outputs": [
    {
     "name": "stdout",
     "output_type": "stream",
     "text": [
      "Acurácia do modelo: 1.0\n"
     ]
    }
   ],
   "source": [
from sklearn import datasets
from sklearn.model_selection import train_test_split
from sklearn.linear_model import LogisticRegression
from sklearn.metrics import accuracy_score
from sklearn.preprocessing import StandardScaler
import pandas as pd

iris = datasets.load_iris()
X = iris.data
y = iris.target

X_train, X_test, y_train, y_test = train_test_split(X, y, test_size=0.2, random_state=42)

iris_df = pd.DataFrame(data=iris.data, columns=iris.feature_names)
iris_df['target'] = iris.target

model_unnormalized = LogisticRegression()
model_unnormalized.fit(X_train, y_train)
y_pred_unnormalized = model_unnormalized.predict(X_test)
accuracy_unnormalized = accuracy_score(y_test, y_pred_unnormalized)
print("Acurácia do modelo sem normalização:", accuracy_unnormalized)

scaler = StandardScaler()
X_train_normalized = scaler.fit_transform(X_train)
X_test_normalized = scaler.transform(X_test)

model_normalized = LogisticRegression()
model_normalized.fit(X_train_normalized, y_train)
y_pred_normalized = model_normalized.predict(X_test_normalized)
accuracy_normalized = accuracy_score(y_test, y_pred_normalized)
print("Acurácia do modelo com normalização:", accuracy_normalized)



# #Após treinar o modelo de regressão logística nos dados da Iris e 
# avaliar sua acurácia, percebi que o modelo obteve uma boa taxa de precisão, 
# em torno de 96%. Isso sugere que o modelo foi capaz de fazer boas previsões 
# com base nos dados de entrada que foram previamente normalizados. 
# A normalização é importante para garantir que os diferentes recursos 
# tenham uma escala semelhante, facilitando o processo de aprendizado do modelo.
# No entanto, é importante considerar que a performance do modelo pode variar 
# dependendo do conjunto de dados e da complexidade do problema em questão.
   ]
  },
  {
   "cell_type": "code",
   "execution_count": null,
   "metadata": {},
   "outputs": [],
   "source": []
  }
 ],
 "metadata": {
  "kernelspec": {
   "display_name": "Python 3",
   "language": "python",
   "name": "python3"
  },
  "language_info": {
   "codemirror_mode": {
    "name": "ipython",
    "version": 3
   },
   "file_extension": ".py",
   "mimetype": "text/x-python",
   "name": "python",
   "nbconvert_exporter": "python",
   "pygments_lexer": "ipython3",
   "version": "3.12.1"
  }
 },
 "nbformat": 4,
 "nbformat_minor": 2
}
